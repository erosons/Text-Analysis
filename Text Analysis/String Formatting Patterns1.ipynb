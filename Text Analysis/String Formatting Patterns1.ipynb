{
 "cells": [
  {
   "cell_type": "code",
   "execution_count": 14,
   "metadata": {},
   "outputs": [
    {
     "name": "stdout",
     "output_type": "stream",
     "text": [
      "Hello       samson there is an 0x1e25bcca error\n"
     ]
    }
   ],
   "source": [
    "#  Old string formatting pattern legacy python codes with operatos\n",
    "\n",
    "# Working with interpolation formatting %\n",
    "\n",
    "Error=505789642\n",
    "name=\"samson\"\n",
    "\n",
    "print(\"Hello %12s there is an 0x%x error\" %(name,Error))\n",
    "\n",
    "# %s--s indicate string see documentaion\n",
    "# %x--s indicate hexadecimal"
   ]
  },
  {
   "cell_type": "code",
   "execution_count": 25,
   "metadata": {},
   "outputs": [
    {
     "name": "stdout",
     "output_type": "stream",
     "text": [
      "Hello samson       there is an 0x1e25bcca error\n"
     ]
    }
   ],
   "source": [
    "# The 12 indicate spacing and -12 indicate right padding\n",
    "print(\"Hello %-12s there is an 0x%x error\" %(name,Error))"
   ]
  },
  {
   "cell_type": "code",
   "execution_count": 27,
   "metadata": {},
   "outputs": [
    {
     "name": "stdout",
     "output_type": "stream",
     "text": [
      "Hello samson       there is an 0x1e25bcca error\n"
     ]
    }
   ],
   "source": [
    "# The 12 indicate spacing and -12 indicate right padding\n",
    "print(\"Hello {0:<12} there is an 0x{1:x} error\".format(name,Error))"
   ]
  },
  {
   "cell_type": "code",
   "execution_count": 2,
   "metadata": {},
   "outputs": [
    {
     "name": "stdout",
     "output_type": "stream",
     "text": [
      "Hello samson there is an 0x1e25bcca error\n"
     ]
    }
   ],
   "source": [
    "# another option for formatting \n",
    "print(\"Hello %(name)s there is an 0x%(error)x error\" %{\"name\":name,\"error\":Error})"
   ]
  },
  {
   "cell_type": "code",
   "execution_count": 5,
   "metadata": {},
   "outputs": [
    {
     "name": "stdout",
     "output_type": "stream",
     "text": [
      "My name is John,I'am 36\n",
      "My name is John,I'am 36\n",
      "My name is John,I'am 36\n"
     ]
    }
   ],
   "source": [
    "#  Another is String format Method\n",
    "print(\"My name is {fname},I'am {age}\".format(fname=\"John\",age=36))\n",
    "print(\"My name is {0},I'am {1}\".format(\"John\",36))\n",
    "print(\"My name is {},I'am {}\".format(\"John\",36))"
   ]
  },
  {
   "cell_type": "code",
   "execution_count": 8,
   "metadata": {},
   "outputs": [
    {
     "name": "stdout",
     "output_type": "stream",
     "text": [
      "My name is 240.23,I'am 6.000000\n"
     ]
    }
   ],
   "source": [
    "#  This returns decimal places\n",
    "print(\"My name is {:.2f},I'am {:f}\".format(240.2333,6))"
   ]
  },
  {
   "cell_type": "code",
   "execution_count": 21,
   "metadata": {},
   "outputs": [
    {
     "name": "stdout",
     "output_type": "stream",
     "text": [
      "My percetange25% is\n"
     ]
    }
   ],
   "source": [
    "# This returns percentage position in one decimal plcae\n",
    "print(\"My percetange{:.0%} is\".format(0.25))"
   ]
  },
  {
   "cell_type": "code",
   "execution_count": 22,
   "metadata": {},
   "outputs": [
    {
     "name": "stdout",
     "output_type": "stream",
     "text": [
      "My percetange25.7% is\n"
     ]
    }
   ],
   "source": [
    "# This returns percentage position\n",
    "print(\"My percetange{:.1%} is\".format(0.257))"
   ]
  },
  {
   "cell_type": "code",
   "execution_count": null,
   "metadata": {},
   "outputs": [],
   "source": []
  }
 ],
 "metadata": {
  "kernelspec": {
   "display_name": "Python 3",
   "language": "python",
   "name": "python3"
  },
  "language_info": {
   "codemirror_mode": {
    "name": "ipython",
    "version": 3
   },
   "file_extension": ".py",
   "mimetype": "text/x-python",
   "name": "python",
   "nbconvert_exporter": "python",
   "pygments_lexer": "ipython3",
   "version": "3.7.3"
  }
 },
 "nbformat": 4,
 "nbformat_minor": 4
}
