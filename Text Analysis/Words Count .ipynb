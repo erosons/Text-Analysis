{
 "cells": [
  {
   "cell_type": "code",
   "execution_count": null,
   "metadata": {},
   "outputs": [],
   "source": [
    "from pathlib import Path\n",
    "import os\n",
    "\n",
    "path = Path(r\"C:\\Users\\gw\\inaugural\\2017-Trump.txt\")\n",
    "print(path.exists())\n",
    "\n",
    "# OR\n",
    "worddic = {}\n",
    "mypath = os.path.join(path, \"/Users/gw/inaugural/\", \"2017-Trump.txt\")\n",
    "with open(mypath, \"r\") as file:\n",
    "    for line in file:\n",
    "        line = line.lower().split()\n",
    "        for word in line:\n",
    "\n",
    "            if word.isalpha():\n",
    "                worddic[word] = 1+worddic.get(word, 0)\n",
    "    print(worddic)"
   ]
  },
  {
   "cell_type": "code",
   "execution_count": null,
   "metadata": {},
   "outputs": [],
   "source": []
  }
 ],
 "metadata": {
  "kernelspec": {
   "display_name": "Python 3",
   "language": "python",
   "name": "python3"
  },
  "language_info": {
   "codemirror_mode": {
    "name": "ipython",
    "version": 3
   },
   "file_extension": ".py",
   "mimetype": "text/x-python",
   "name": "python",
   "nbconvert_exporter": "python",
   "pygments_lexer": "ipython3",
   "version": "3.7.3"
  }
 },
 "nbformat": 4,
 "nbformat_minor": 4
}
